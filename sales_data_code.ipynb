import pandas as pd

# Step 1: Load the CSV file
df = pd.read_csv("sales_data_sample(in).csv", encoding='ISO-8859-1')

# Step 2: Strip spaces from column names
df.columns = df.columns.str.strip()

# Step 3: Remove duplicate rows
df = df.drop_duplicates()

# Step 4: Format 'orderdate' column if it exists
if 'orderdate' in df.columns:
    df['orderdate'] = pd.to_datetime(df['orderdate'], errors='coerce').dt.date
else:
    print("⚠️ 'orderdate' column not found.")

# Step 5: Strip spaces from all string values
def safe_strip(x):
    return x.strip() if isinstance(x, str) else x
df = df.applymap(safe_strip)

# Step 6: Fill missing values with 'Unknown'
df.fillna("Unknown", inplace=True)

# Step 7: Save cleaned data to current folder
df.to_csv("sales_data_cleaned.csv", index=False)
print("✅ Cleaned dataset saved as 'sales_data_cleaned.csv'")
